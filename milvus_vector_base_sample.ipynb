{
 "cells": [
  {
   "cell_type": "code",
   "execution_count": 1,
   "metadata": {},
   "outputs": [
    {
     "name": "stderr",
     "output_type": "stream",
     "text": [
      "/Users/p0r0422/Library/CloudStorage/OneDrive-WalmartInc/Code/milvus-vector-database-demo/.venv/lib/python3.10/site-packages/tqdm/auto.py:21: TqdmWarning: IProgress not found. Please update jupyter and ipywidgets. See https://ipywidgets.readthedocs.io/en/stable/user_install.html\n",
      "  from .autonotebook import tqdm as notebook_tqdm\n"
     ]
    },
    {
     "data": {
      "text/plain": [
       "['Which coaching institute provides best distance learning program for 10th class?',\n",
       " 'How much will the bank FD rate of interest decrease in India in future?',\n",
       " 'What is the best coaching institute for GMAT in Delhi NCR region?',\n",
       " 'Was Obama right to abstain from the UN vote on settlements?',\n",
       " 'What are the best TV series one should really watch?']"
      ]
     },
     "execution_count": 1,
     "metadata": {},
     "output_type": "execute_result"
    }
   ],
   "source": [
    "import pandas as pd\n",
    "from sentence_transformers import SentenceTransformer\n",
    "\n",
    "from pymilvus import connections, utility, FieldSchema, CollectionSchema, DataType, Collection\n",
    "\n",
    "pd.options.display.max_colwidth = 100\n",
    "\n",
    "df = pd.read_csv(\"./data/train.csv\", index_col=\"id\")\n",
    "sampled_df = df.sample(100)[[\"question1\",\"question2\"]]\n",
    "concat_df = pd.concat([sampled_df[\"question1\"],sampled_df[\"question2\"]], axis=0)\n",
    "sentences = concat_df.to_list()\n",
    "sentences[:5]"
   ]
  },
  {
   "cell_type": "code",
   "execution_count": 2,
   "metadata": {},
   "outputs": [
    {
     "name": "stderr",
     "output_type": "stream",
     "text": [
      "/Users/p0r0422/Library/CloudStorage/OneDrive-WalmartInc/Code/milvus-vector-database-demo/.venv/lib/python3.10/site-packages/transformers/tokenization_utils_base.py:1601: FutureWarning: `clean_up_tokenization_spaces` was not set. It will be set to `True` by default. This behavior will be depracted in transformers v4.45, and will be then set to `False` by default. For more details check this issue: https://github.com/huggingface/transformers/issues/31884\n",
      "  warnings.warn(\n"
     ]
    }
   ],
   "source": [
    "embedding_model = SentenceTransformer('sentence-transformers/all-MiniLM-L6-v2')\n",
    "embeddings = embedding_model.encode(sentences)"
   ]
  },
  {
   "cell_type": "code",
   "execution_count": 3,
   "metadata": {},
   "outputs": [],
   "source": [
    "# Establish a connection to the Milvus server\n",
    "connections.connect(host=\"localhost\",port=19530)\n",
    "\n",
    "# Define the schema for the collection\n",
    "fields = [\n",
    "    FieldSchema(name=\"pk\", dtype=DataType.INT64, is_primary=True, auto_id=True),\n",
    "    FieldSchema(name=\"sentences\", dtype=DataType.VARCHAR, is_primary=False, description=\"The actual sentences\", max_length=1000),\n",
    "    FieldSchema(name=\"embeddings\", dtype=DataType.FLOAT_VECTOR, is_primary=False, description=\"The sentence embeddings\", dim=384)\n",
    "]\n",
    "\n",
    "schema = CollectionSchema(fields, \"A collection to store sentence embeddings\")"
   ]
  },
  {
   "cell_type": "code",
   "execution_count": 4,
   "metadata": {},
   "outputs": [],
   "source": [
    "# Create the collection in Milvus\n",
    "kaggle_collection = Collection(\"kaggle_collection\", schema)\n",
    "entities = [\n",
    "    sentences,  # The actual sentences\n",
    "    embeddings,  # The sentence embeddings\n",
    "]\n",
    "\n",
    "# Insert our data into the collection\n",
    "insert_result = kaggle_collection.insert(entities)\n",
    "\n",
    "# Create an index to make future search queries faster\n",
    "index = {\"index_type\": \"FLAT\", \"metric_type\": \"COSINE\"}\n",
    "kaggle_collection.create_index(\"embeddings\", index)\n",
    "kaggle_collection.load() # Load the data into memory"
   ]
  },
  {
   "cell_type": "code",
   "execution_count": 5,
   "metadata": {},
   "outputs": [
    {
     "name": "stdout",
     "output_type": "stream",
     "text": [
      "Which programming language should I learn: Java or JavaScript? | score - 0.5187628865242004\n",
      "Which programming language should I learn Java or python? | score - 0.485379159450531\n",
      "How can I learn new things? | score - 0.4258279800415039\n"
     ]
    }
   ],
   "source": [
    "question = \"What should i learn to be a programmer ?\"\n",
    "question_embedding = embedding_model.encode(question)\n",
    "\n",
    "# Perform the search\n",
    "results = kaggle_collection.search([question_embedding], \"embeddings\", search_params = {\"metric_type\": \"COSINE\"}, limit=3, output_fields=[\"sentences\"],param={})\n",
    "\n",
    "# Print the search results\n",
    "for result in results:\n",
    "    for value in result:\n",
    "        print(f\"{value.entity.get('sentences')} | score - {value.distance}\")\n"
   ]
  },
  {
   "cell_type": "code",
   "execution_count": 6,
   "metadata": {},
   "outputs": [],
   "source": [
    "# utility.drop_collection(\"kaggle_collection\")"
   ]
  }
 ],
 "metadata": {
  "kernelspec": {
   "display_name": ".venv",
   "language": "python",
   "name": "python3"
  },
  "language_info": {
   "codemirror_mode": {
    "name": "ipython",
    "version": 3
   },
   "file_extension": ".py",
   "mimetype": "text/x-python",
   "name": "python",
   "nbconvert_exporter": "python",
   "pygments_lexer": "ipython3",
   "version": "3.10.5"
  }
 },
 "nbformat": 4,
 "nbformat_minor": 2
}
